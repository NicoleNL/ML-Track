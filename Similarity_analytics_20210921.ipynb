{
 "cells": [
  {
   "cell_type": "markdown",
   "id": "8889562e",
   "metadata": {},
   "source": [
    "### Data Loading"
   ]
  },
  {
   "cell_type": "code",
   "execution_count": 1,
   "id": "0951373d",
   "metadata": {},
   "outputs": [],
   "source": [
    "#import library\n",
    "import pandas as pd\n",
    "import glob, os, json\n",
    "import re\n",
    "\n",
    "#user input file path\n",
    "path = 'C:/Users/nchong/OneDrive - Intel Corporation/Documents/Debug Similarity Analytics and Bucketization Framework/General/Sample json output/HSD ES Raw Data/team1/'"
   ]
  },
  {
   "cell_type": "code",
   "execution_count": 2,
   "id": "497319eb",
   "metadata": {},
   "outputs": [],
   "source": [
    "def data_loading(path,df=None):\n",
    "    '''\n",
    "    Load only files that follow agreed filename format, merge files as single dataframe.\n",
    "    Can support incremental aggregation of dataset, by setting arg df as the existing dataframe\n",
    "    Returns a single dataframe.\n",
    "    \n",
    "    params:\n",
    "    path [string]: path of the files, without filename\n",
    "    df [dataframe] (optional,default is None): input existing dataframe to merge with new files\n",
    "    '''\n",
    "    filenames = os.listdir(path)\n",
    "    file_list=[]\n",
    "    dfs = []\n",
    "\n",
    "    if df is None: #no existing dataframe\n",
    "        \n",
    "        for file in filenames:\n",
    "            # search agreed file format pattern in the filename\n",
    "            match = re.search(r\"^\\(\\d{4}-\\d{2}-\\d{1,2}\\)\\d+\\_\\D+\\_\\d+\\.json$\",file)\n",
    "\n",
    "            #if match is found\n",
    "            if match:\n",
    "                pattern = os.path.join(path, file) #join path with file name\n",
    "                file_list.append(pattern) #list of json files that follow the agreed filename\n",
    "\n",
    "                for file in file_list:\n",
    "                    with open(file) as f:\n",
    "                        #flatten json into pd dataframe\n",
    "                        json_data = pd.json_normalize(json.loads(f.read()))\n",
    "                        #label which file each row is from \n",
    "                        json_data['file'] = file.rsplit(\"/\", 1)[-1]\n",
    "\n",
    "                    dfs.append(json_data)\n",
    "                df = pd.concat(dfs)\n",
    "                \n",
    "    else: #existing dataframe exists and want to append new files to existing dataframe\n",
    "             \n",
    "        for file in filenames:\n",
    "\n",
    "            if file not in df[\"file\"].unique(): #check if file is new - to support merging of new dataset with previously read ones\n",
    "\n",
    "                # search agreed file format pattern in the filename\n",
    "                match = re.search(r\"^\\(\\d{4}-\\d{2}-\\d{1,2}\\)\\d+\\_\\D+\\_\\d+\\.json$\",file)\n",
    "\n",
    "                #if match is found\n",
    "                if match:\n",
    "                    json_pattern = os.path.join(path, file) #join path with file name\n",
    "                    file_list.append(json_pattern) #list of json files \n",
    "\n",
    "                    for file in file_list:\n",
    "                        with open(file) as f:\n",
    "                            #flatten json into pd dataframe\n",
    "                            json_data = pd.json_normalize(json.loads(f.read()))\n",
    "                            #label which file each row is from \n",
    "                            json_data['file'] = file.rsplit(\"/\", 1)[-1]\n",
    "\n",
    "                        dfs.append(json_data)\n",
    "                    new_df = pd.concat(dfs)           \n",
    "                    df=pd.concat([df,new_df])\n",
    "    \n",
    "    return df"
   ]
  },
  {
   "cell_type": "code",
   "execution_count": 3,
   "id": "5d9aa175",
   "metadata": {},
   "outputs": [
    {
     "data": {
      "text/plain": [
       "['(2021-08-25)1_firstSet_1.json', '(2021-08-25)3_secondSet_1.json']"
      ]
     },
     "execution_count": 3,
     "metadata": {},
     "output_type": "execute_result"
    }
   ],
   "source": [
    "os.listdir(path)"
   ]
  },
  {
   "cell_type": "code",
   "execution_count": 4,
   "id": "b8c24924",
   "metadata": {},
   "outputs": [
    {
     "data": {
      "text/html": [
       "<div>\n",
       "<style scoped>\n",
       "    .dataframe tbody tr th:only-of-type {\n",
       "        vertical-align: middle;\n",
       "    }\n",
       "\n",
       "    .dataframe tbody tr th {\n",
       "        vertical-align: top;\n",
       "    }\n",
       "\n",
       "    .dataframe thead th {\n",
       "        text-align: right;\n",
       "    }\n",
       "</style>\n",
       "<table border=\"1\" class=\"dataframe\">\n",
       "  <thead>\n",
       "    <tr style=\"text-align: right;\">\n",
       "      <th></th>\n",
       "      <th>id</th>\n",
       "      <th>title</th>\n",
       "      <th>description</th>\n",
       "      <th>comments</th>\n",
       "      <th>updated_date</th>\n",
       "      <th>hierarchy_id</th>\n",
       "      <th>rev</th>\n",
       "      <th>tenant</th>\n",
       "      <th>subject</th>\n",
       "      <th>is_current</th>\n",
       "      <th>hierarchy_path</th>\n",
       "      <th>parent_id</th>\n",
       "      <th>record_type</th>\n",
       "      <th>row_num</th>\n",
       "      <th>file</th>\n",
       "    </tr>\n",
       "  </thead>\n",
       "  <tbody>\n",
       "    <tr>\n",
       "      <th>0</th>\n",
       "      <td>1308651592</td>\n",
       "      <td>provide method to update GIO fields from git r...</td>\n",
       "      <td>Please provide a way to update GIO fields from...</td>\n",
       "      <td>++++1562123662 fbakhda\\nHi @Panceac, Cornel Eu...</td>\n",
       "      <td>2021-07-21 12:30:31.387</td>\n",
       "      <td></td>\n",
       "      <td>8</td>\n",
       "      <td>iot_platf</td>\n",
       "      <td>support</td>\n",
       "      <td>1</td>\n",
       "      <td>/1201559436/1208431055/1308651592/</td>\n",
       "      <td>1208431055</td>\n",
       "      <td>parent</td>\n",
       "      <td>1</td>\n",
       "      <td>(2021-08-25)1_firstSet_1.json</td>\n",
       "    </tr>\n",
       "    <tr>\n",
       "      <th>1</th>\n",
       "      <td>1308671310</td>\n",
       "      <td>Test suite execution terminates before executi...</td>\n",
       "      <td>&lt;p&gt;Test suite execution finished before execut...</td>\n",
       "      <td>++++1361513318 cmoala\\nsys_tsdval@GL-IAF1-V-S0...</td>\n",
       "      <td>2021-05-04 09:30:00.320</td>\n",
       "      <td></td>\n",
       "      <td>11</td>\n",
       "      <td>iot_platf</td>\n",
       "      <td>support</td>\n",
       "      <td>1</td>\n",
       "      <td>/1201559436/1208431055/1308671310/</td>\n",
       "      <td>1208431055</td>\n",
       "      <td>parent</td>\n",
       "      <td>2</td>\n",
       "      <td>(2021-08-25)1_firstSet_1.json</td>\n",
       "    </tr>\n",
       "    <tr>\n",
       "      <th>2</th>\n",
       "      <td>1308673361</td>\n",
       "      <td>Cloning defects from another test cycle is not...</td>\n",
       "      <td>&lt;p&gt;I am trying to clone defects from another t...</td>\n",
       "      <td>++++1361514315 cmoala\\nObserved that only impl...</td>\n",
       "      <td>2021-05-20 11:47:18.927</td>\n",
       "      <td></td>\n",
       "      <td>9</td>\n",
       "      <td>iot_platf</td>\n",
       "      <td>support</td>\n",
       "      <td>1</td>\n",
       "      <td>/1201559436/1208431055/1308673361/</td>\n",
       "      <td>1208431055</td>\n",
       "      <td>parent</td>\n",
       "      <td>3</td>\n",
       "      <td>(2021-08-25)1_firstSet_1.json</td>\n",
       "    </tr>\n",
       "    <tr>\n",
       "      <th>3</th>\n",
       "      <td>1507656633</td>\n",
       "      <td>[Testing Only] this is enhancement only</td>\n",
       "      <td>Retest some function again.</td>\n",
       "      <td></td>\n",
       "      <td>2020-03-13 10:16:18.703</td>\n",
       "      <td></td>\n",
       "      <td>31</td>\n",
       "      <td>iot_platf</td>\n",
       "      <td>support</td>\n",
       "      <td>1</td>\n",
       "      <td>/1201559436/1208431055/1507656633/</td>\n",
       "      <td>1208431055</td>\n",
       "      <td>parent</td>\n",
       "      <td>4</td>\n",
       "      <td>(2021-08-25)1_firstSet_1.json</td>\n",
       "    </tr>\n",
       "    <tr>\n",
       "      <th>4</th>\n",
       "      <td>1507656638</td>\n",
       "      <td>[Testing Only] this is consultation only</td>\n",
       "      <td>enter the support needed at here ...</td>\n",
       "      <td>++++1661488832 prajput\\nHSDES testing. Please ...</td>\n",
       "      <td>2020-06-01 09:49:55.913</td>\n",
       "      <td></td>\n",
       "      <td>19</td>\n",
       "      <td>iot_platf</td>\n",
       "      <td>support</td>\n",
       "      <td>1</td>\n",
       "      <td>/1201559436/1208431055/1507656638/</td>\n",
       "      <td>1208431055</td>\n",
       "      <td>parent</td>\n",
       "      <td>5</td>\n",
       "      <td>(2021-08-25)1_firstSet_1.json</td>\n",
       "    </tr>\n",
       "  </tbody>\n",
       "</table>\n",
       "</div>"
      ],
      "text/plain": [
       "           id                                              title  \\\n",
       "0  1308651592  provide method to update GIO fields from git r...   \n",
       "1  1308671310  Test suite execution terminates before executi...   \n",
       "2  1308673361  Cloning defects from another test cycle is not...   \n",
       "3  1507656633            [Testing Only] this is enhancement only   \n",
       "4  1507656638           [Testing Only] this is consultation only   \n",
       "\n",
       "                                         description  \\\n",
       "0  Please provide a way to update GIO fields from...   \n",
       "1  <p>Test suite execution finished before execut...   \n",
       "2  <p>I am trying to clone defects from another t...   \n",
       "3                        Retest some function again.   \n",
       "4               enter the support needed at here ...   \n",
       "\n",
       "                                            comments             updated_date  \\\n",
       "0  ++++1562123662 fbakhda\\nHi @Panceac, Cornel Eu...  2021-07-21 12:30:31.387   \n",
       "1  ++++1361513318 cmoala\\nsys_tsdval@GL-IAF1-V-S0...  2021-05-04 09:30:00.320   \n",
       "2  ++++1361514315 cmoala\\nObserved that only impl...  2021-05-20 11:47:18.927   \n",
       "3                                                     2020-03-13 10:16:18.703   \n",
       "4  ++++1661488832 prajput\\nHSDES testing. Please ...  2020-06-01 09:49:55.913   \n",
       "\n",
       "  hierarchy_id rev     tenant  subject is_current  \\\n",
       "0                8  iot_platf  support          1   \n",
       "1               11  iot_platf  support          1   \n",
       "2                9  iot_platf  support          1   \n",
       "3               31  iot_platf  support          1   \n",
       "4               19  iot_platf  support          1   \n",
       "\n",
       "                       hierarchy_path   parent_id record_type row_num  \\\n",
       "0  /1201559436/1208431055/1308651592/  1208431055      parent       1   \n",
       "1  /1201559436/1208431055/1308671310/  1208431055      parent       2   \n",
       "2  /1201559436/1208431055/1308673361/  1208431055      parent       3   \n",
       "3  /1201559436/1208431055/1507656633/  1208431055      parent       4   \n",
       "4  /1201559436/1208431055/1507656638/  1208431055      parent       5   \n",
       "\n",
       "                            file  \n",
       "0  (2021-08-25)1_firstSet_1.json  \n",
       "1  (2021-08-25)1_firstSet_1.json  \n",
       "2  (2021-08-25)1_firstSet_1.json  \n",
       "3  (2021-08-25)1_firstSet_1.json  \n",
       "4  (2021-08-25)1_firstSet_1.json  "
      ]
     },
     "execution_count": 4,
     "metadata": {},
     "output_type": "execute_result"
    }
   ],
   "source": [
    "df = data_loading(path,df=None)\n",
    "df.head()"
   ]
  },
  {
   "cell_type": "code",
   "execution_count": null,
   "id": "b39870e2",
   "metadata": {},
   "outputs": [],
   "source": [
    "df.to_csv('C:/Users/nchong/OneDrive - Intel Corporation/Documents/Debug Similarity Analytics and Bucketization Framework/General/Sample json output/HSD ES Raw Data/'+'data_original.csv')"
   ]
  },
  {
   "cell_type": "markdown",
   "id": "4af2089e",
   "metadata": {},
   "source": [
    "### Data Pre-processing\n",
    "### a) Text Normalization"
   ]
  },
  {
   "cell_type": "markdown",
   "id": "025c03d8",
   "metadata": {},
   "source": [
    "### 1) Filter df by the text columns selected by user, fill NA with empty string"
   ]
  },
  {
   "cell_type": "code",
   "execution_count": 5,
   "id": "6a051ea5",
   "metadata": {},
   "outputs": [],
   "source": [
    "# 1) Fill NAN with empty string\n",
    "def columns_req(text_list,df):\n",
    "    \"\"\"\n",
    "    Filters df to only include the string columns provided by user\n",
    "    Fills NAN with empty string\n",
    "    \n",
    "    params:\n",
    "    text_list[list]: list of columns names  \n",
    "    df [dataframe]: input dataframe \n",
    "    \"\"\"\n",
    "    df= df[text_list] \n",
    "    df = df.fillna('')\n",
    "\n",
    "    return df"
   ]
  },
  {
   "cell_type": "code",
   "execution_count": 6,
   "id": "7947e2d8",
   "metadata": {},
   "outputs": [
    {
     "data": {
      "text/html": [
       "<div>\n",
       "<style scoped>\n",
       "    .dataframe tbody tr th:only-of-type {\n",
       "        vertical-align: middle;\n",
       "    }\n",
       "\n",
       "    .dataframe tbody tr th {\n",
       "        vertical-align: top;\n",
       "    }\n",
       "\n",
       "    .dataframe thead th {\n",
       "        text-align: right;\n",
       "    }\n",
       "</style>\n",
       "<table border=\"1\" class=\"dataframe\">\n",
       "  <thead>\n",
       "    <tr style=\"text-align: right;\">\n",
       "      <th></th>\n",
       "      <th>title</th>\n",
       "      <th>description</th>\n",
       "      <th>comments</th>\n",
       "    </tr>\n",
       "  </thead>\n",
       "  <tbody>\n",
       "    <tr>\n",
       "      <th>0</th>\n",
       "      <td>provide method to update GIO fields from git r...</td>\n",
       "      <td>Please provide a way to update GIO fields from...</td>\n",
       "      <td>++++1562123662 fbakhda\\nHi @Panceac, Cornel Eu...</td>\n",
       "    </tr>\n",
       "    <tr>\n",
       "      <th>1</th>\n",
       "      <td>Test suite execution terminates before executi...</td>\n",
       "      <td>&lt;p&gt;Test suite execution finished before execut...</td>\n",
       "      <td>++++1361513318 cmoala\\nsys_tsdval@GL-IAF1-V-S0...</td>\n",
       "    </tr>\n",
       "    <tr>\n",
       "      <th>2</th>\n",
       "      <td>Cloning defects from another test cycle is not...</td>\n",
       "      <td>&lt;p&gt;I am trying to clone defects from another t...</td>\n",
       "      <td>++++1361514315 cmoala\\nObserved that only impl...</td>\n",
       "    </tr>\n",
       "    <tr>\n",
       "      <th>3</th>\n",
       "      <td>[Testing Only] this is enhancement only</td>\n",
       "      <td>Retest some function again.</td>\n",
       "      <td></td>\n",
       "    </tr>\n",
       "    <tr>\n",
       "      <th>4</th>\n",
       "      <td>[Testing Only] this is consultation only</td>\n",
       "      <td>enter the support needed at here ...</td>\n",
       "      <td>++++1661488832 prajput\\nHSDES testing. Please ...</td>\n",
       "    </tr>\n",
       "    <tr>\n",
       "      <th>...</th>\n",
       "      <td>...</td>\n",
       "      <td>...</td>\n",
       "      <td>...</td>\n",
       "    </tr>\n",
       "    <tr>\n",
       "      <th>899</th>\n",
       "      <td></td>\n",
       "      <td>&lt;div&gt;&lt;span style=\"font-size: 12.18px;\"&gt;Hello,&amp;...</td>\n",
       "      <td></td>\n",
       "    </tr>\n",
       "    <tr>\n",
       "      <th>900</th>\n",
       "      <td></td>\n",
       "      <td>&lt;p&gt;Hi Gio Team,&lt;/p&gt;&lt;p&gt;&lt;br /&gt;&lt;/p&gt;&lt;p&gt;Thank you f...</td>\n",
       "      <td></td>\n",
       "    </tr>\n",
       "    <tr>\n",
       "      <th>901</th>\n",
       "      <td></td>\n",
       "      <td>&lt;div&gt;The schedule test suite allow for the use...</td>\n",
       "      <td></td>\n",
       "    </tr>\n",
       "    <tr>\n",
       "      <th>902</th>\n",
       "      <td></td>\n",
       "      <td>&lt;p&gt;Hi Gio Team,&lt;/p&gt;&lt;p&gt;&lt;br /&gt;&lt;/p&gt;&lt;p&gt;Thank you f...</td>\n",
       "      <td></td>\n",
       "    </tr>\n",
       "    <tr>\n",
       "      <th>903</th>\n",
       "      <td></td>\n",
       "      <td>&lt;p&gt;Converting to enhancement...&lt;/p&gt;&lt;p&gt;&lt;br /&gt;&lt;/...</td>\n",
       "      <td></td>\n",
       "    </tr>\n",
       "  </tbody>\n",
       "</table>\n",
       "<p>2712 rows × 3 columns</p>\n",
       "</div>"
      ],
      "text/plain": [
       "                                                 title  \\\n",
       "0    provide method to update GIO fields from git r...   \n",
       "1    Test suite execution terminates before executi...   \n",
       "2    Cloning defects from another test cycle is not...   \n",
       "3              [Testing Only] this is enhancement only   \n",
       "4             [Testing Only] this is consultation only   \n",
       "..                                                 ...   \n",
       "899                                                      \n",
       "900                                                      \n",
       "901                                                      \n",
       "902                                                      \n",
       "903                                                      \n",
       "\n",
       "                                           description  \\\n",
       "0    Please provide a way to update GIO fields from...   \n",
       "1    <p>Test suite execution finished before execut...   \n",
       "2    <p>I am trying to clone defects from another t...   \n",
       "3                          Retest some function again.   \n",
       "4                 enter the support needed at here ...   \n",
       "..                                                 ...   \n",
       "899  <div><span style=\"font-size: 12.18px;\">Hello,&...   \n",
       "900  <p>Hi Gio Team,</p><p><br /></p><p>Thank you f...   \n",
       "901  <div>The schedule test suite allow for the use...   \n",
       "902  <p>Hi Gio Team,</p><p><br /></p><p>Thank you f...   \n",
       "903  <p>Converting to enhancement...</p><p><br /></...   \n",
       "\n",
       "                                              comments  \n",
       "0    ++++1562123662 fbakhda\\nHi @Panceac, Cornel Eu...  \n",
       "1    ++++1361513318 cmoala\\nsys_tsdval@GL-IAF1-V-S0...  \n",
       "2    ++++1361514315 cmoala\\nObserved that only impl...  \n",
       "3                                                       \n",
       "4    ++++1661488832 prajput\\nHSDES testing. Please ...  \n",
       "..                                                 ...  \n",
       "899                                                     \n",
       "900                                                     \n",
       "901                                                     \n",
       "902                                                     \n",
       "903                                                     \n",
       "\n",
       "[2712 rows x 3 columns]"
      ]
     },
     "execution_count": 6,
     "metadata": {},
     "output_type": "execute_result"
    }
   ],
   "source": [
    "# Take only 'title','description','comments'\n",
    "text_list = ['title','description','comments']\n",
    "df = columns_req(text_list,df)\n",
    "df"
   ]
  },
  {
   "cell_type": "code",
   "execution_count": 10,
   "id": "4d8319f6",
   "metadata": {
    "scrolled": true
   },
   "outputs": [
    {
     "data": {
      "text/plain": [
       "'<p><span style=\"font-size: 1em;\">Observation</span><br /></p><p>Error while importing excel to GIO TCM</p><p>\\n\\n\\n\\n\\n\\n\\n\\n</p><div class=\"WordSection1\">\\n\\n<p class=\"MsoNormal\" style=\"margin-bottom:0in;margin-bottom:.0001pt;line-height:\\nnormal;text-autospace:none\"><i><b><span style=\"font-size: 12px; font-family: &quot;Times New Roman&quot;, serif;\">Error:&nbsp;</span></b><span style=\"font-size: 12px; font-family: &quot;Times New Roman&quot;, serif;\">&nbsp;Error while\\ninserting data under test case TRTL-F008-M id:26332 An exception occurred while\\nexecuting \\'UPDATE `official_test_cases` SET `master_ref_id` = ?, `auditt_check`\\n= ?, `is_parent` = ?, `only_main` = ?, `updated_on` = ? WHERE `id` = ?\\' with\\nparams [null, 0, 0, 0, &quot;2020-01-06 10:57:58&quot;, 1776689]:\\nSQLSTATE[HY000]: General error: 1366 Incorrect string value:\\n\\'\\\\xE2\\\\x80\\\\x8Bnon...\\' for column \\'_description\\' at row 3</span></i></p><p class=\"MsoNormal\" style=\"margin-bottom:0in;margin-bottom:.0001pt;line-height:\\nnormal;text-autospace:none\"><br /></p><p>TCM:&nbsp;<a href=\"http://pglvm2008-v01.png.intel.com/gio.gwt/war/gio.html#!/53/201/t/test_case_management\" target=\"_blank\">http://pglvm2008-v01.png.intel.com/gio.gwt/war/gio.html#!/53/201/t/test_case_management</a>&nbsp;(Manageability (SOTA/FOTA))</p><p>Excel file is attached</p>\\n\\n</div>'"
      ]
     },
     "execution_count": 10,
     "metadata": {},
     "output_type": "execute_result"
    }
   ],
   "source": [
    "df.iloc[10,1]"
   ]
  },
  {
   "cell_type": "code",
   "execution_count": 8,
   "id": "588195fe",
   "metadata": {},
   "outputs": [
    {
     "data": {
      "text/plain": [
       "\"<p>Facing an issue when trying to clone test result from one test cycle to another. Tried to directly clone all the results but failed as it left few test cases behind. </p><p>Manually selected the test cases to clone, but now I'm left with two test cases failed to be cloned - whether automatically or manually.</p>\""
      ]
     },
     "execution_count": 8,
     "metadata": {},
     "output_type": "execute_result"
    }
   ],
   "source": [
    "df.iloc[149,1]"
   ]
  },
  {
   "cell_type": "code",
   "execution_count": null,
   "id": "fc35733e",
   "metadata": {},
   "outputs": [],
   "source": [
    "df.to_excel('C:/Users/nchong/OneDrive - Intel Corporation/Documents/Debug Similarity Analytics and Bucketization Framework/General/Sample json output/HSD ES Raw Data/20210920/'+'data_3cols.xlsx')"
   ]
  },
  {
   "cell_type": "markdown",
   "id": "b1540a0a",
   "metadata": {},
   "source": [
    "### 2) Expand contractions "
   ]
  },
  {
   "cell_type": "code",
   "execution_count": 11,
   "id": "453da296",
   "metadata": {},
   "outputs": [],
   "source": [
    "import contractions\n",
    "\n",
    "def word_contractions(df):\n",
    "    \"\"\"\n",
    "    Expand word contractions (i.e. \"isn't\" to \"is not\")\n",
    "    params:\n",
    "    df [dataframe]: input dataframe \n",
    "    \"\"\"\n",
    "    df = df.applymap(lambda text: \" \".join([contractions.fix(word) for word in text.split()]))\n",
    "    return df\n"
   ]
  },
  {
   "cell_type": "code",
   "execution_count": null,
   "id": "eff07071",
   "metadata": {},
   "outputs": [],
   "source": [
    "df = word_contractions(df)"
   ]
  },
  {
   "cell_type": "code",
   "execution_count": 14,
   "id": "47492958",
   "metadata": {},
   "outputs": [
    {
     "data": {
      "text/plain": [
       "'<p>Facing an issue when trying to clone test result from one test cycle to another. Tried to directly clone all the results but failed as it left few test cases behind. </p><p>Manually selected the test cases to clone, but now I am left with two test cases failed to be cloned - whether automatically or manually.</p>'"
      ]
     },
     "execution_count": 14,
     "metadata": {},
     "output_type": "execute_result"
    }
   ],
   "source": [
    "df.iloc[149,1]"
   ]
  },
  {
   "cell_type": "markdown",
   "id": "2c2e49df",
   "metadata": {},
   "source": [
    "### 3) Convert all characters into lowercase "
   ]
  },
  {
   "cell_type": "code",
   "execution_count": 15,
   "id": "01121fe2",
   "metadata": {},
   "outputs": [],
   "source": [
    "def lowercase(df):\n",
    "    \"\"\"\n",
    "    Convert all characters to lower case\n",
    "    param:\n",
    "    df[dataframe]: input dataframe\n",
    "    \"\"\"\n",
    "    df = df.applymap(lambda s:s.lower() if type(s) == str else s)\n",
    "    return df "
   ]
  },
  {
   "cell_type": "code",
   "execution_count": 16,
   "id": "3a6c401b",
   "metadata": {},
   "outputs": [
    {
     "data": {
      "text/html": [
       "<div>\n",
       "<style scoped>\n",
       "    .dataframe tbody tr th:only-of-type {\n",
       "        vertical-align: middle;\n",
       "    }\n",
       "\n",
       "    .dataframe tbody tr th {\n",
       "        vertical-align: top;\n",
       "    }\n",
       "\n",
       "    .dataframe thead th {\n",
       "        text-align: right;\n",
       "    }\n",
       "</style>\n",
       "<table border=\"1\" class=\"dataframe\">\n",
       "  <thead>\n",
       "    <tr style=\"text-align: right;\">\n",
       "      <th></th>\n",
       "      <th>title</th>\n",
       "      <th>description</th>\n",
       "      <th>comments</th>\n",
       "    </tr>\n",
       "  </thead>\n",
       "  <tbody>\n",
       "    <tr>\n",
       "      <th>0</th>\n",
       "      <td>provide method to update gio fields from git r...</td>\n",
       "      <td>please provide a way to update gio fields from...</td>\n",
       "      <td>++++1562123662 fbakhda hi @panceac, cornel eug...</td>\n",
       "    </tr>\n",
       "    <tr>\n",
       "      <th>1</th>\n",
       "      <td>test suite execution terminates before executi...</td>\n",
       "      <td>&lt;p&gt;test suite execution finished before execut...</td>\n",
       "      <td>++++1361513318 cmoala sys_tsdval@gl-iaf1-v-s04...</td>\n",
       "    </tr>\n",
       "    <tr>\n",
       "      <th>2</th>\n",
       "      <td>cloning defects from another test cycle is not...</td>\n",
       "      <td>&lt;p&gt;i am trying to clone defects from another t...</td>\n",
       "      <td>++++1361514315 cmoala observed that only imple...</td>\n",
       "    </tr>\n",
       "    <tr>\n",
       "      <th>3</th>\n",
       "      <td>[testing only] this is enhancement only</td>\n",
       "      <td>retest some function again.</td>\n",
       "      <td></td>\n",
       "    </tr>\n",
       "    <tr>\n",
       "      <th>4</th>\n",
       "      <td>[testing only] this is consultation only</td>\n",
       "      <td>enter the support needed at here ...</td>\n",
       "      <td>++++1661488832 prajput hsdes testing. please i...</td>\n",
       "    </tr>\n",
       "    <tr>\n",
       "      <th>...</th>\n",
       "      <td>...</td>\n",
       "      <td>...</td>\n",
       "      <td>...</td>\n",
       "    </tr>\n",
       "    <tr>\n",
       "      <th>899</th>\n",
       "      <td></td>\n",
       "      <td>&lt;div&gt;&lt;span style=\"font-size: 12.18px;\"&gt;hello,&amp;...</td>\n",
       "      <td></td>\n",
       "    </tr>\n",
       "    <tr>\n",
       "      <th>900</th>\n",
       "      <td></td>\n",
       "      <td>&lt;p&gt;hi gio team,&lt;/p&gt;&lt;p&gt;&lt;br /&gt;&lt;/p&gt;&lt;p&gt;thank you f...</td>\n",
       "      <td></td>\n",
       "    </tr>\n",
       "    <tr>\n",
       "      <th>901</th>\n",
       "      <td></td>\n",
       "      <td>&lt;div&gt;the schedule test suite allow for the use...</td>\n",
       "      <td></td>\n",
       "    </tr>\n",
       "    <tr>\n",
       "      <th>902</th>\n",
       "      <td></td>\n",
       "      <td>&lt;p&gt;hi gio team,&lt;/p&gt;&lt;p&gt;&lt;br /&gt;&lt;/p&gt;&lt;p&gt;thank you f...</td>\n",
       "      <td></td>\n",
       "    </tr>\n",
       "    <tr>\n",
       "      <th>903</th>\n",
       "      <td></td>\n",
       "      <td>&lt;p&gt;converting to enhancement...&lt;/p&gt;&lt;p&gt;&lt;br /&gt;&lt;/...</td>\n",
       "      <td></td>\n",
       "    </tr>\n",
       "  </tbody>\n",
       "</table>\n",
       "<p>2712 rows × 3 columns</p>\n",
       "</div>"
      ],
      "text/plain": [
       "                                                 title  \\\n",
       "0    provide method to update gio fields from git r...   \n",
       "1    test suite execution terminates before executi...   \n",
       "2    cloning defects from another test cycle is not...   \n",
       "3              [testing only] this is enhancement only   \n",
       "4             [testing only] this is consultation only   \n",
       "..                                                 ...   \n",
       "899                                                      \n",
       "900                                                      \n",
       "901                                                      \n",
       "902                                                      \n",
       "903                                                      \n",
       "\n",
       "                                           description  \\\n",
       "0    please provide a way to update gio fields from...   \n",
       "1    <p>test suite execution finished before execut...   \n",
       "2    <p>i am trying to clone defects from another t...   \n",
       "3                          retest some function again.   \n",
       "4                 enter the support needed at here ...   \n",
       "..                                                 ...   \n",
       "899  <div><span style=\"font-size: 12.18px;\">hello,&...   \n",
       "900  <p>hi gio team,</p><p><br /></p><p>thank you f...   \n",
       "901  <div>the schedule test suite allow for the use...   \n",
       "902  <p>hi gio team,</p><p><br /></p><p>thank you f...   \n",
       "903  <p>converting to enhancement...</p><p><br /></...   \n",
       "\n",
       "                                              comments  \n",
       "0    ++++1562123662 fbakhda hi @panceac, cornel eug...  \n",
       "1    ++++1361513318 cmoala sys_tsdval@gl-iaf1-v-s04...  \n",
       "2    ++++1361514315 cmoala observed that only imple...  \n",
       "3                                                       \n",
       "4    ++++1661488832 prajput hsdes testing. please i...  \n",
       "..                                                 ...  \n",
       "899                                                     \n",
       "900                                                     \n",
       "901                                                     \n",
       "902                                                     \n",
       "903                                                     \n",
       "\n",
       "[2712 rows x 3 columns]"
      ]
     },
     "execution_count": 16,
     "metadata": {},
     "output_type": "execute_result"
    }
   ],
   "source": [
    "df = lowercase(df)\n",
    "df"
   ]
  },
  {
   "cell_type": "code",
   "execution_count": 17,
   "id": "cb2ffefb",
   "metadata": {},
   "outputs": [
    {
     "data": {
      "text/plain": [
       "'<p>facing an issue when trying to clone test result from one test cycle to another. tried to directly clone all the results but failed as it left few test cases behind. </p><p>manually selected the test cases to clone, but now i am left with two test cases failed to be cloned - whether automatically or manually.</p>'"
      ]
     },
     "execution_count": 17,
     "metadata": {},
     "output_type": "execute_result"
    }
   ],
   "source": [
    "df.iloc[149,1]"
   ]
  },
  {
   "cell_type": "code",
   "execution_count": 18,
   "id": "f2790e33",
   "metadata": {},
   "outputs": [
    {
     "data": {
      "text/plain": [
       "'<p><span style=\"font-size: 1em;\">observation</span><br /></p><p>error while importing excel to gio tcm</p><p> </p><div class=\"wordsection1\"> <p class=\"msonormal\" style=\"margin-bottom:0in;margin-bottom:.0001pt;line-height: normal;text-autospace:none\"><i><b><span style=\"font-size: 12px; font-family: &quot;times new roman&quot;, serif;\">error:&nbsp;</span></b><span style=\"font-size: 12px; font-family: &quot;times new roman&quot;, serif;\">&nbsp;error while inserting data under test case trtl-f008-m id:26332 an exception occurred while executing \\'update `official_test_cases` set `master_ref_id` = ?, `auditt_check` = ?, `is_parent` = ?, `only_main` = ?, `updated_on` = ? where `id` = ?\\' with params [null, 0, 0, 0, &quot;2020-01-06 10:57:58&quot;, 1776689]: sqlstate[hy000]: general error: 1366 incorrect string value: \\'\\\\xe2\\\\x80\\\\x8bnon...\\' for column \\'_description\\' at row 3</span></i></p><p class=\"msonormal\" style=\"margin-bottom:0in;margin-bottom:.0001pt;line-height: normal;text-autospace:none\"><br /></p><p>tcm:&nbsp;<a href=\"http://pglvm2008-v01.png.intel.com/gio.gwt/war/gio.html#!/53/201/t/test_case_management\" target=\"_blank\">http://pglvm2008-v01.png.intel.com/gio.gwt/war/gio.html#!/53/201/t/test_case_management</a>&nbsp;(manageability (sota/fota))</p><p>excel file is attached</p> </div>'"
      ]
     },
     "execution_count": 18,
     "metadata": {},
     "output_type": "execute_result"
    }
   ],
   "source": [
    "df.iloc[10,1]"
   ]
  },
  {
   "cell_type": "markdown",
   "id": "699a61d4",
   "metadata": {},
   "source": [
    "### 4) Stemming/Lemmatization"
   ]
  },
  {
   "cell_type": "markdown",
   "id": "37e3ba0c",
   "metadata": {},
   "source": [
    "### Stemming"
   ]
  },
  {
   "cell_type": "code",
   "execution_count": null,
   "id": "a97f0157",
   "metadata": {},
   "outputs": [],
   "source": [
    "import nltk\n",
    "from nltk.stem import PorterStemmer\n",
    "from nltk.stem import LancasterStemmer\n",
    "\n",
    "def stem_words(df,stemmer_type):\n",
    "    \"\"\"\n",
    "    Stemming words, 2 options available: Porter Stemmer or Lancaster Stemmer \n",
    "    params:\n",
    "    df [dataframe]: input dataframe \n",
    "    stemmer_type[string]: input stemming method (\"Porter\" or \"Lancaster\")\n",
    "    \"\"\"\n",
    "    if stemmer_type == \"Porter\":\n",
    "        stemmer = PorterStemmer()\n",
    "    if stemmer_type == \"Lancaster\":\n",
    "        stemmer=LancasterStemmer()\n",
    "    df = df.applymap(lambda text: \" \".join([stemmer.stem(word) for word in text.split()]))\n",
    "    return df"
   ]
  },
  {
   "cell_type": "code",
   "execution_count": null,
   "id": "693988d3",
   "metadata": {},
   "outputs": [],
   "source": [
    "df = stem_words(df,stemmer_type = \"Lancaster\")\n",
    "df.iloc[10,1]"
   ]
  },
  {
   "cell_type": "markdown",
   "id": "5a48f7de",
   "metadata": {},
   "source": [
    "### Lemmatization"
   ]
  },
  {
   "cell_type": "code",
   "execution_count": 19,
   "id": "70ac3bdc",
   "metadata": {},
   "outputs": [],
   "source": [
    "import spacy\n",
    "import nltk\n",
    "from nltk.stem import WordNetLemmatizer\n",
    "\n",
    "def lemmatize_words(df,lemma_type):\n",
    "    \"\"\"\n",
    "    Lemmatize words, 2 options available: WordNetLemmatizer or Spacy \n",
    "    params:\n",
    "    df [dataframe]: input dataframe \n",
    "    lemma_type[string]: input lemmatization method (\"WordNet\" or \"Spacy\")\n",
    "    \"\"\"\n",
    "    if lemma_type == \"WordNet\":\n",
    "        lemmatizer = WordNetLemmatizer()\n",
    "        df = df.applymap(lambda text: \" \".join([lemmatizer.lemmatize(word) for word in text.split()]))\n",
    "    if lemma_type == \"Spacy\":\n",
    "        nlp = spacy.load(\"en_core_web_sm\")\n",
    "        df = df.applymap(lambda text: \" \".join([word.lemma_ for word in nlp(text)]))\n",
    "        #convert to lower case as spacy will convert pronouns to upper case\n",
    "        df = df.applymap(lambda s:s.lower() if type(s) == str else s) \n",
    "    return df\n"
   ]
  },
  {
   "cell_type": "code",
   "execution_count": 51,
   "id": "b80ba3be",
   "metadata": {},
   "outputs": [
    {
     "data": {
      "text/html": [
       "<div>\n",
       "<style scoped>\n",
       "    .dataframe tbody tr th:only-of-type {\n",
       "        vertical-align: middle;\n",
       "    }\n",
       "\n",
       "    .dataframe tbody tr th {\n",
       "        vertical-align: top;\n",
       "    }\n",
       "\n",
       "    .dataframe thead th {\n",
       "        text-align: right;\n",
       "    }\n",
       "</style>\n",
       "<table border=\"1\" class=\"dataframe\">\n",
       "  <thead>\n",
       "    <tr style=\"text-align: right;\">\n",
       "      <th></th>\n",
       "      <th>title</th>\n",
       "      <th>description</th>\n",
       "      <th>comments</th>\n",
       "    </tr>\n",
       "  </thead>\n",
       "  <tbody>\n",
       "    <tr>\n",
       "      <th>0</th>\n",
       "      <td>provide method update fields git repo automati...</td>\n",
       "      <td>provide way update field git repo file mean wh...</td>\n",
       "      <td>fbakhda panceac cornel eugen little background...</td>\n",
       "    </tr>\n",
       "    <tr>\n",
       "      <th>1</th>\n",
       "      <td>suite execution terminate execute test</td>\n",
       "      <td>suite execution finish execute test case error...</td>\n",
       "      <td>cmoala sys tsdval gl iaf v usr local log gvlog...</td>\n",
       "    </tr>\n",
       "    <tr>\n",
       "      <th>2</th>\n",
       "      <td>cloning defect another working</td>\n",
       "      <td>try clone defect another get message cloning s...</td>\n",
       "      <td>cmoala observe implement defect clone waikitc ...</td>\n",
       "    </tr>\n",
       "    <tr>\n",
       "      <th>3</th>\n",
       "      <td>testing enhancement</td>\n",
       "      <td>ret function</td>\n",
       "      <td></td>\n",
       "    </tr>\n",
       "    <tr>\n",
       "      <th>4</th>\n",
       "      <td>testing consultation</td>\n",
       "      <td>enter support need</td>\n",
       "      <td>prajput hsde test ignore change siewlita hsde ...</td>\n",
       "    </tr>\n",
       "    <tr>\n",
       "      <th>...</th>\n",
       "      <td>...</td>\n",
       "      <td>...</td>\n",
       "      <td>...</td>\n",
       "    </tr>\n",
       "    <tr>\n",
       "      <th>899</th>\n",
       "      <td></td>\n",
       "      <td>hello import time global domain time kpis ehl ...</td>\n",
       "      <td></td>\n",
       "    </tr>\n",
       "    <tr>\n",
       "      <th>900</th>\n",
       "      <td></td>\n",
       "      <td>team thank provide kpi metric feature store tr...</td>\n",
       "      <td></td>\n",
       "    </tr>\n",
       "    <tr>\n",
       "      <th>901</th>\n",
       "      <td></td>\n",
       "      <td>schedule suite allow user clone suit recipe al...</td>\n",
       "      <td></td>\n",
       "    </tr>\n",
       "    <tr>\n",
       "      <th>902</th>\n",
       "      <td></td>\n",
       "      <td>team thank provide kpi feature plot kpi metric...</td>\n",
       "      <td></td>\n",
       "    </tr>\n",
       "    <tr>\n",
       "      <th>903</th>\n",
       "      <td></td>\n",
       "      <td>convert enhancement would like ability downloa...</td>\n",
       "      <td></td>\n",
       "    </tr>\n",
       "  </tbody>\n",
       "</table>\n",
       "<p>2712 rows × 3 columns</p>\n",
       "</div>"
      ],
      "text/plain": [
       "                                                 title  \\\n",
       "0    provide method update fields git repo automati...   \n",
       "1               suite execution terminate execute test   \n",
       "2                       cloning defect another working   \n",
       "3                                  testing enhancement   \n",
       "4                                 testing consultation   \n",
       "..                                                 ...   \n",
       "899                                                      \n",
       "900                                                      \n",
       "901                                                      \n",
       "902                                                      \n",
       "903                                                      \n",
       "\n",
       "                                           description  \\\n",
       "0    provide way update field git repo file mean wh...   \n",
       "1    suite execution finish execute test case error...   \n",
       "2    try clone defect another get message cloning s...   \n",
       "3                                         ret function   \n",
       "4                                   enter support need   \n",
       "..                                                 ...   \n",
       "899  hello import time global domain time kpis ehl ...   \n",
       "900  team thank provide kpi metric feature store tr...   \n",
       "901  schedule suite allow user clone suit recipe al...   \n",
       "902  team thank provide kpi feature plot kpi metric...   \n",
       "903  convert enhancement would like ability downloa...   \n",
       "\n",
       "                                              comments  \n",
       "0    fbakhda panceac cornel eugen little background...  \n",
       "1    cmoala sys tsdval gl iaf v usr local log gvlog...  \n",
       "2    cmoala observe implement defect clone waikitc ...  \n",
       "3                                                       \n",
       "4    prajput hsde test ignore change siewlita hsde ...  \n",
       "..                                                 ...  \n",
       "899                                                     \n",
       "900                                                     \n",
       "901                                                     \n",
       "902                                                     \n",
       "903                                                     \n",
       "\n",
       "[2712 rows x 3 columns]"
      ]
     },
     "execution_count": 51,
     "metadata": {},
     "output_type": "execute_result"
    }
   ],
   "source": [
    "df = lemmatize_words(df,lemma_type = \"Spacy\")\n",
    "df"
   ]
  },
  {
   "cell_type": "code",
   "execution_count": 52,
   "id": "ac13e30a",
   "metadata": {},
   "outputs": [
    {
     "data": {
      "text/plain": [
       "'observation error import excel tcm error error insert data trtl f i d exception occur execute update official case set master ref i d auditt check parent main update i d param null sqlstate hy general error incorrect string value non column description row tcm manageability sota fota excel file attach'"
      ]
     },
     "execution_count": 52,
     "metadata": {},
     "output_type": "execute_result"
    }
   ],
   "source": [
    "df.iloc[10,1]"
   ]
  },
  {
   "cell_type": "code",
   "execution_count": 53,
   "id": "72a0846f",
   "metadata": {},
   "outputs": [
    {
     "data": {
      "text/plain": [
       "'face try clone result one another try directly clone result fail leave case behind manually select case clone leave two case fail clone whether automatically manually'"
      ]
     },
     "execution_count": 53,
     "metadata": {},
     "output_type": "execute_result"
    }
   ],
   "source": [
    "df.iloc[149,1]"
   ]
  },
  {
   "cell_type": "code",
   "execution_count": null,
   "id": "58dd1b44",
   "metadata": {},
   "outputs": [],
   "source": [
    "df = lemmatize_words(df,lemma_type = \"WordNet\")\n",
    "df.iloc[10,1]"
   ]
  },
  {
   "cell_type": "markdown",
   "id": "bf6d27c8",
   "metadata": {},
   "source": [
    "### b) Noise filtering\n",
    "\n"
   ]
  },
  {
   "cell_type": "markdown",
   "id": "41661e07",
   "metadata": {},
   "source": [
    "### 1) Remove html tag and url"
   ]
  },
  {
   "cell_type": "code",
   "execution_count": 20,
   "id": "027213da",
   "metadata": {},
   "outputs": [],
   "source": [
    "from bs4 import BeautifulSoup\n",
    "def remove_htmltag_url(df):\n",
    "    \"\"\"\n",
    "    Remove html tag and url\n",
    "    params:\n",
    "    df [dataframe]: input dataframe \n",
    "    \n",
    "    \"\"\"\n",
    "    #remove html tag\n",
    "    df = df.applymap(lambda text:BeautifulSoup(text, 'html.parser').get_text(separator= \" \",strip=True))\n",
    "    #remove url\n",
    "    df = df.replace('https?[://%]*\\S+',' ', regex=True) \n",
    "    return df"
   ]
  },
  {
   "cell_type": "code",
   "execution_count": 22,
   "id": "15f23e6f",
   "metadata": {},
   "outputs": [
    {
     "data": {
      "text/html": [
       "<div>\n",
       "<style scoped>\n",
       "    .dataframe tbody tr th:only-of-type {\n",
       "        vertical-align: middle;\n",
       "    }\n",
       "\n",
       "    .dataframe tbody tr th {\n",
       "        vertical-align: top;\n",
       "    }\n",
       "\n",
       "    .dataframe thead th {\n",
       "        text-align: right;\n",
       "    }\n",
       "</style>\n",
       "<table border=\"1\" class=\"dataframe\">\n",
       "  <thead>\n",
       "    <tr style=\"text-align: right;\">\n",
       "      <th></th>\n",
       "      <th>title</th>\n",
       "      <th>description</th>\n",
       "      <th>comments</th>\n",
       "    </tr>\n",
       "  </thead>\n",
       "  <tbody>\n",
       "    <tr>\n",
       "      <th>0</th>\n",
       "      <td>provide method to update gio fields from git r...</td>\n",
       "      <td>please provide a way to update gio fields from...</td>\n",
       "      <td>++++1562123662 fbakhda hi @panceac, cornel eug...</td>\n",
       "    </tr>\n",
       "    <tr>\n",
       "      <th>1</th>\n",
       "      <td>test suite execution terminates before executi...</td>\n",
       "      <td>test suite execution finished before executing...</td>\n",
       "      <td>++++1361513318 cmoala sys_tsdval@gl-iaf1-v-s04...</td>\n",
       "    </tr>\n",
       "    <tr>\n",
       "      <th>2</th>\n",
       "      <td>cloning defects from another test cycle is not...</td>\n",
       "      <td>i am trying to clone defects from another test...</td>\n",
       "      <td>++++1361514315 cmoala observed that only imple...</td>\n",
       "    </tr>\n",
       "    <tr>\n",
       "      <th>3</th>\n",
       "      <td>[testing only] this is enhancement only</td>\n",
       "      <td>retest some function again.</td>\n",
       "      <td></td>\n",
       "    </tr>\n",
       "    <tr>\n",
       "      <th>4</th>\n",
       "      <td>[testing only] this is consultation only</td>\n",
       "      <td>enter the support needed at here ...</td>\n",
       "      <td>++++1661488832 prajput hsdes testing. please i...</td>\n",
       "    </tr>\n",
       "    <tr>\n",
       "      <th>...</th>\n",
       "      <td>...</td>\n",
       "      <td>...</td>\n",
       "      <td>...</td>\n",
       "    </tr>\n",
       "    <tr>\n",
       "      <th>899</th>\n",
       "      <td></td>\n",
       "      <td>hello, please import time global domain: time ...</td>\n",
       "      <td></td>\n",
       "    </tr>\n",
       "    <tr>\n",
       "      <th>900</th>\n",
       "      <td></td>\n",
       "      <td>hi gio team, thank you for providing kpi_metri...</td>\n",
       "      <td></td>\n",
       "    </tr>\n",
       "    <tr>\n",
       "      <th>901</th>\n",
       "      <td></td>\n",
       "      <td>the schedule test suite allow for the user to ...</td>\n",
       "      <td></td>\n",
       "    </tr>\n",
       "    <tr>\n",
       "      <th>902</th>\n",
       "      <td></td>\n",
       "      <td>hi gio team, thank you for providing kpi featu...</td>\n",
       "      <td></td>\n",
       "    </tr>\n",
       "    <tr>\n",
       "      <th>903</th>\n",
       "      <td></td>\n",
       "      <td>converting to enhancement... would like the ab...</td>\n",
       "      <td></td>\n",
       "    </tr>\n",
       "  </tbody>\n",
       "</table>\n",
       "<p>2712 rows × 3 columns</p>\n",
       "</div>"
      ],
      "text/plain": [
       "                                                 title  \\\n",
       "0    provide method to update gio fields from git r...   \n",
       "1    test suite execution terminates before executi...   \n",
       "2    cloning defects from another test cycle is not...   \n",
       "3              [testing only] this is enhancement only   \n",
       "4             [testing only] this is consultation only   \n",
       "..                                                 ...   \n",
       "899                                                      \n",
       "900                                                      \n",
       "901                                                      \n",
       "902                                                      \n",
       "903                                                      \n",
       "\n",
       "                                           description  \\\n",
       "0    please provide a way to update gio fields from...   \n",
       "1    test suite execution finished before executing...   \n",
       "2    i am trying to clone defects from another test...   \n",
       "3                          retest some function again.   \n",
       "4                 enter the support needed at here ...   \n",
       "..                                                 ...   \n",
       "899  hello, please import time global domain: time ...   \n",
       "900  hi gio team, thank you for providing kpi_metri...   \n",
       "901  the schedule test suite allow for the user to ...   \n",
       "902  hi gio team, thank you for providing kpi featu...   \n",
       "903  converting to enhancement... would like the ab...   \n",
       "\n",
       "                                              comments  \n",
       "0    ++++1562123662 fbakhda hi @panceac, cornel eug...  \n",
       "1    ++++1361513318 cmoala sys_tsdval@gl-iaf1-v-s04...  \n",
       "2    ++++1361514315 cmoala observed that only imple...  \n",
       "3                                                       \n",
       "4    ++++1661488832 prajput hsdes testing. please i...  \n",
       "..                                                 ...  \n",
       "899                                                     \n",
       "900                                                     \n",
       "901                                                     \n",
       "902                                                     \n",
       "903                                                     \n",
       "\n",
       "[2712 rows x 3 columns]"
      ]
     },
     "execution_count": 22,
     "metadata": {},
     "output_type": "execute_result"
    }
   ],
   "source": [
    "df = remove_htmltag_url(df)\n",
    "df"
   ]
  },
  {
   "cell_type": "code",
   "execution_count": 25,
   "id": "5cb7e15c",
   "metadata": {},
   "outputs": [
    {
     "data": {
      "text/plain": [
       "'observation error while importing excel to gio tcm error: error while inserting data under test case trtl-f008-m id:26332 an exception occurred while executing \\'update `official_test_cases` set `master_ref_id` = ?, `auditt_check` = ?, `is_parent` = ?, `only_main` = ?, `updated_on` = ? where `id` = ?\\' with params [null, 0, 0, 0, \"2020-01-06 10:57:58\", 1776689]: sqlstate[hy000]: general error: 1366 incorrect string value: \\'\\\\xe2\\\\x80\\\\x8bnon...\\' for column \\'_description\\' at row 3 tcm:   (manageability (sota/fota)) excel file is attached'"
      ]
     },
     "execution_count": 25,
     "metadata": {},
     "output_type": "execute_result"
    }
   ],
   "source": [
    "df.iloc[10,1]"
   ]
  },
  {
   "cell_type": "code",
   "execution_count": 26,
   "id": "4105deb4",
   "metadata": {},
   "outputs": [
    {
     "data": {
      "text/plain": [
       "'facing an issue when trying to clone test result from one test cycle to another. tried to directly clone all the results but failed as it left few test cases behind. manually selected the test cases to clone, but now i am left with two test cases failed to be cloned - whether automatically or manually.'"
      ]
     },
     "execution_count": 26,
     "metadata": {},
     "output_type": "execute_result"
    }
   ],
   "source": [
    "df.iloc[149,1]"
   ]
  },
  {
   "cell_type": "markdown",
   "id": "f0a2f91a",
   "metadata": {},
   "source": [
    "### 3) Remove irrelevant characters, punctuation, special characters"
   ]
  },
  {
   "cell_type": "code",
   "execution_count": 27,
   "id": "a84fc8f8",
   "metadata": {},
   "outputs": [],
   "source": [
    "def remove_irrchar_punc(df):\n",
    "    \"\"\"\n",
    "    Remove irrelevant characters and punctuation\n",
    "    params:\n",
    "    df [dataframe]: input dataframe \n",
    "    \n",
    "    \"\"\"\n",
    "    #remove &nbsp; &quot; and &gt; - anything that starts wth $ and ends with ;\n",
    "    df = df.replace('\\&.+?\\;',' ',regex = True)\n",
    "    #Remove comment id number+name  \"++++1562123662 fbakhda\\n\"  in comment field since not relevant\n",
    "    df = df.replace('\\++.*\\\\n',' ', regex=True)\n",
    "    #Remove \"image.png\\\"\n",
    "    df = df.replace('image.png\\\\\\\\',' ', regex=True)\n",
    "    # Remove eg: cid:image004.jpg@01D66BEC.314074D0\\\n",
    "    df = df.replace('cid:image.*\\\\\\\\',' ', regex=True)\n",
    "    # Remove utf-8 literals\n",
    "    df = df.replace(r'\\\\+x[\\d\\D][\\d\\D]',' ', regex=True)\n",
    "    #Remove special characters and punctuation\n",
    "    df = df.replace('[^\\w\\s]',' ', regex=True)\n",
    "    df = df.replace(r\"_\", \" \", regex=True)\n",
    "    return df\n"
   ]
  },
  {
   "cell_type": "code",
   "execution_count": 28,
   "id": "0e073201",
   "metadata": {},
   "outputs": [],
   "source": [
    "df = remove_irrchar_punc(df)"
   ]
  },
  {
   "cell_type": "code",
   "execution_count": 29,
   "id": "eb99100d",
   "metadata": {},
   "outputs": [
    {
     "data": {
      "text/plain": [
       "'observation error while importing excel to gio tcm error  error while inserting data under test case trtl f008 m id 26332 an exception occurred while executing  update  official test cases  set  master ref id        auditt check        is parent        only main        updated on      where  id       with params  null  0  0  0   2020 01 06 10 57 58   1776689   sqlstate hy000   general error  1366 incorrect string value      non     for column   description  at row 3 tcm     manageability  sota fota   excel file is attached'"
      ]
     },
     "execution_count": 29,
     "metadata": {},
     "output_type": "execute_result"
    }
   ],
   "source": [
    "df.iloc[10,1]"
   ]
  },
  {
   "cell_type": "code",
   "execution_count": 30,
   "id": "f2eb2e09",
   "metadata": {},
   "outputs": [
    {
     "data": {
      "text/plain": [
       "'facing an issue when trying to clone test result from one test cycle to another  tried to directly clone all the results but failed as it left few test cases behind  manually selected the test cases to clone  but now i am left with two test cases failed to be cloned   whether automatically or manually '"
      ]
     },
     "execution_count": 30,
     "metadata": {},
     "output_type": "execute_result"
    }
   ],
   "source": [
    "df.iloc[149,1]"
   ]
  },
  {
   "cell_type": "code",
   "execution_count": null,
   "id": "f9235b0e",
   "metadata": {},
   "outputs": [],
   "source": [
    "df.to_excel('C:/Users/nchong/OneDrive - Intel Corporation/Documents/Debug Similarity Analytics and Bucketization Framework/General/Sample json output/HSD ES Raw Data/20210920/'+'data_rem_irrchars_punc.xlsx')"
   ]
  },
  {
   "cell_type": "markdown",
   "id": "49ec85f0",
   "metadata": {},
   "source": [
    "### 3) Remove numeric data"
   ]
  },
  {
   "cell_type": "code",
   "execution_count": 31,
   "id": "c131608e",
   "metadata": {},
   "outputs": [],
   "source": [
    "def remove_num(df):\n",
    "    \"\"\"\n",
    "    Remove numeric data\n",
    "    params:\n",
    "    df [dataframe]: input dataframe \n",
    "    \n",
    "    \"\"\"\n",
    "    df=df.replace('\\d+',' ', regex=True) \n",
    "\n",
    "    return df "
   ]
  },
  {
   "cell_type": "code",
   "execution_count": 32,
   "id": "56627dcf",
   "metadata": {},
   "outputs": [
    {
     "data": {
      "text/html": [
       "<div>\n",
       "<style scoped>\n",
       "    .dataframe tbody tr th:only-of-type {\n",
       "        vertical-align: middle;\n",
       "    }\n",
       "\n",
       "    .dataframe tbody tr th {\n",
       "        vertical-align: top;\n",
       "    }\n",
       "\n",
       "    .dataframe thead th {\n",
       "        text-align: right;\n",
       "    }\n",
       "</style>\n",
       "<table border=\"1\" class=\"dataframe\">\n",
       "  <thead>\n",
       "    <tr style=\"text-align: right;\">\n",
       "      <th></th>\n",
       "      <th>title</th>\n",
       "      <th>description</th>\n",
       "      <th>comments</th>\n",
       "    </tr>\n",
       "  </thead>\n",
       "  <tbody>\n",
       "    <tr>\n",
       "      <th>0</th>\n",
       "      <td>provide method to update gio fields from git r...</td>\n",
       "      <td>please provide a way to update gio fields from...</td>\n",
       "      <td>fbakhda hi  panceac  cornel eugen   can ...</td>\n",
       "    </tr>\n",
       "    <tr>\n",
       "      <th>1</th>\n",
       "      <td>test suite execution terminates before executi...</td>\n",
       "      <td>test suite execution finished before executing...</td>\n",
       "      <td>cmoala sys tsdval gl iaf  v s     usr lo...</td>\n",
       "    </tr>\n",
       "    <tr>\n",
       "      <th>2</th>\n",
       "      <td>cloning defects from another test cycle is not...</td>\n",
       "      <td>i am trying to clone defects from another test...</td>\n",
       "      <td>cmoala observed that only implemented de...</td>\n",
       "    </tr>\n",
       "    <tr>\n",
       "      <th>3</th>\n",
       "      <td>testing only  this is enhancement only</td>\n",
       "      <td>retest some function again</td>\n",
       "      <td></td>\n",
       "    </tr>\n",
       "    <tr>\n",
       "      <th>4</th>\n",
       "      <td>testing only  this is consultation only</td>\n",
       "      <td>enter the support needed at here</td>\n",
       "      <td>prajput hsdes testing  please ignore any...</td>\n",
       "    </tr>\n",
       "    <tr>\n",
       "      <th>...</th>\n",
       "      <td>...</td>\n",
       "      <td>...</td>\n",
       "      <td>...</td>\n",
       "    </tr>\n",
       "    <tr>\n",
       "      <th>899</th>\n",
       "      <td></td>\n",
       "      <td>hello  please import time global domain  time ...</td>\n",
       "      <td></td>\n",
       "    </tr>\n",
       "    <tr>\n",
       "      <th>900</th>\n",
       "      <td></td>\n",
       "      <td>hi gio team  thank you for providing kpi metri...</td>\n",
       "      <td></td>\n",
       "    </tr>\n",
       "    <tr>\n",
       "      <th>901</th>\n",
       "      <td></td>\n",
       "      <td>the schedule test suite allow for the user to ...</td>\n",
       "      <td></td>\n",
       "    </tr>\n",
       "    <tr>\n",
       "      <th>902</th>\n",
       "      <td></td>\n",
       "      <td>hi gio team  thank you for providing kpi featu...</td>\n",
       "      <td></td>\n",
       "    </tr>\n",
       "    <tr>\n",
       "      <th>903</th>\n",
       "      <td></td>\n",
       "      <td>converting to enhancement    would like the ab...</td>\n",
       "      <td></td>\n",
       "    </tr>\n",
       "  </tbody>\n",
       "</table>\n",
       "<p>2712 rows × 3 columns</p>\n",
       "</div>"
      ],
      "text/plain": [
       "                                                 title  \\\n",
       "0    provide method to update gio fields from git r...   \n",
       "1    test suite execution terminates before executi...   \n",
       "2    cloning defects from another test cycle is not...   \n",
       "3               testing only  this is enhancement only   \n",
       "4              testing only  this is consultation only   \n",
       "..                                                 ...   \n",
       "899                                                      \n",
       "900                                                      \n",
       "901                                                      \n",
       "902                                                      \n",
       "903                                                      \n",
       "\n",
       "                                           description  \\\n",
       "0    please provide a way to update gio fields from...   \n",
       "1    test suite execution finished before executing...   \n",
       "2    i am trying to clone defects from another test...   \n",
       "3                          retest some function again    \n",
       "4                 enter the support needed at here       \n",
       "..                                                 ...   \n",
       "899  hello  please import time global domain  time ...   \n",
       "900  hi gio team  thank you for providing kpi metri...   \n",
       "901  the schedule test suite allow for the user to ...   \n",
       "902  hi gio team  thank you for providing kpi featu...   \n",
       "903  converting to enhancement    would like the ab...   \n",
       "\n",
       "                                              comments  \n",
       "0          fbakhda hi  panceac  cornel eugen   can ...  \n",
       "1          cmoala sys tsdval gl iaf  v s     usr lo...  \n",
       "2          cmoala observed that only implemented de...  \n",
       "3                                                       \n",
       "4          prajput hsdes testing  please ignore any...  \n",
       "..                                                 ...  \n",
       "899                                                     \n",
       "900                                                     \n",
       "901                                                     \n",
       "902                                                     \n",
       "903                                                     \n",
       "\n",
       "[2712 rows x 3 columns]"
      ]
     },
     "execution_count": 32,
     "metadata": {},
     "output_type": "execute_result"
    }
   ],
   "source": [
    "df = remove_num(df)\n",
    "df"
   ]
  },
  {
   "cell_type": "code",
   "execution_count": 33,
   "id": "0a8d083d",
   "metadata": {},
   "outputs": [
    {
     "data": {
      "text/plain": [
       "'observation error while importing excel to gio tcm error  error while inserting data under test case trtl f  m id   an exception occurred while executing  update  official test cases  set  master ref id        auditt check        is parent        only main        updated on      where  id       with params  null                              sqlstate hy    general error    incorrect string value      non     for column   description  at row   tcm     manageability  sota fota   excel file is attached'"
      ]
     },
     "execution_count": 33,
     "metadata": {},
     "output_type": "execute_result"
    }
   ],
   "source": [
    "df.iloc[10,1]"
   ]
  },
  {
   "cell_type": "code",
   "execution_count": 34,
   "id": "eaebc4ef",
   "metadata": {},
   "outputs": [
    {
     "data": {
      "text/plain": [
       "'facing an issue when trying to clone test result from one test cycle to another  tried to directly clone all the results but failed as it left few test cases behind  manually selected the test cases to clone  but now i am left with two test cases failed to be cloned   whether automatically or manually '"
      ]
     },
     "execution_count": 34,
     "metadata": {},
     "output_type": "execute_result"
    }
   ],
   "source": [
    "df.iloc[149,1]"
   ]
  },
  {
   "cell_type": "code",
   "execution_count": null,
   "id": "78d78620",
   "metadata": {},
   "outputs": [],
   "source": [
    "df.to_csv('C:/Users/nchong/OneDrive - Intel Corporation/Documents/Debug Similarity Analytics and Bucketization Framework/General/Sample json output/HSD ES Raw Data/20210920/'+'rem_puncs_withspace.csv')"
   ]
  },
  {
   "cell_type": "markdown",
   "id": "145f0d60",
   "metadata": {},
   "source": [
    "### 4) Remove multiple whitespaces"
   ]
  },
  {
   "cell_type": "code",
   "execution_count": 35,
   "id": "660093e7",
   "metadata": {},
   "outputs": [],
   "source": [
    "def remove_multwhitespace(df):\n",
    "    \"\"\"\n",
    "    Remove multiple white spaces\n",
    "    params:\n",
    "    df [dataframe]: input dataframe \n",
    "    \n",
    "    \"\"\"\n",
    "    df = df.replace(' +',' ', regex=True)\n",
    "    return df"
   ]
  },
  {
   "cell_type": "code",
   "execution_count": 36,
   "id": "b620fa98",
   "metadata": {},
   "outputs": [],
   "source": [
    "df = remove_multwhitespace(df)"
   ]
  },
  {
   "cell_type": "code",
   "execution_count": 37,
   "id": "eb117fc2",
   "metadata": {},
   "outputs": [
    {
     "data": {
      "text/plain": [
       "'observation error while importing excel to gio tcm error error while inserting data under test case trtl f m id an exception occurred while executing update official test cases set master ref id auditt check is parent only main updated on where id with params null sqlstate hy general error incorrect string value non for column description at row tcm manageability sota fota excel file is attached'"
      ]
     },
     "execution_count": 37,
     "metadata": {},
     "output_type": "execute_result"
    }
   ],
   "source": [
    "df.iloc[10,1]"
   ]
  },
  {
   "cell_type": "code",
   "execution_count": 38,
   "id": "6b71b63d",
   "metadata": {},
   "outputs": [
    {
     "data": {
      "text/plain": [
       "'facing an issue when trying to clone test result from one test cycle to another tried to directly clone all the results but failed as it left few test cases behind manually selected the test cases to clone but now i am left with two test cases failed to be cloned whether automatically or manually '"
      ]
     },
     "execution_count": 38,
     "metadata": {},
     "output_type": "execute_result"
    }
   ],
   "source": [
    "df.iloc[149,1]"
   ]
  },
  {
   "cell_type": "markdown",
   "id": "9f97e5d5",
   "metadata": {},
   "source": [
    "### 4) Remove stopwords"
   ]
  },
  {
   "cell_type": "code",
   "execution_count": null,
   "id": "4b7ca58a",
   "metadata": {},
   "outputs": [],
   "source": [
    "# print(stopwords.words('english'))"
   ]
  },
  {
   "cell_type": "code",
   "execution_count": 39,
   "id": "609fa802",
   "metadata": {},
   "outputs": [],
   "source": [
    "import nltk\n",
    "# nltk.download('stopwords')\n",
    "from nltk.corpus import stopwords\n",
    "\n",
    "def remove_stopwords(df):\n",
    "    \"\"\"\n",
    "    Remove English stopwords \n",
    "    params:\n",
    "    df [dataframe]: input dataframe \n",
    "    \n",
    "    \"\"\"\n",
    "    STOPWORDS = set(stopwords.words('english'))\n",
    "    df = df.applymap(lambda text: \" \".join([word for word in str(text).split() if word not in STOPWORDS]))\n",
    "                     \n",
    "    return df"
   ]
  },
  {
   "cell_type": "code",
   "execution_count": 40,
   "id": "3ad87d6d",
   "metadata": {},
   "outputs": [],
   "source": [
    "df = remove_stopwords(df)"
   ]
  },
  {
   "cell_type": "code",
   "execution_count": 41,
   "id": "fafbb9d1",
   "metadata": {},
   "outputs": [
    {
     "data": {
      "text/plain": [
       "'facing issue trying clone test result one test cycle another tried directly clone results failed left test cases behind manually selected test cases clone left two test cases failed cloned whether automatically manually'"
      ]
     },
     "execution_count": 41,
     "metadata": {},
     "output_type": "execute_result"
    }
   ],
   "source": [
    "df.iloc[149,1]"
   ]
  },
  {
   "cell_type": "code",
   "execution_count": 42,
   "id": "ab4eaccf",
   "metadata": {},
   "outputs": [
    {
     "data": {
      "text/plain": [
       "'observation error importing excel gio tcm error error inserting data test case trtl f id exception occurred executing update official test cases set master ref id auditt check parent main updated id params null sqlstate hy general error incorrect string value non column description row tcm manageability sota fota excel file attached'"
      ]
     },
     "execution_count": 42,
     "metadata": {},
     "output_type": "execute_result"
    }
   ],
   "source": [
    "df.iloc[10,1]"
   ]
  },
  {
   "cell_type": "markdown",
   "id": "905229f9",
   "metadata": {},
   "source": [
    "### 5) Remove frequent words"
   ]
  },
  {
   "cell_type": "code",
   "execution_count": 43,
   "id": "7a389eec",
   "metadata": {},
   "outputs": [],
   "source": [
    "def remove_freqwords(df,n):\n",
    "    \"\"\"\n",
    "    Remove n frequent words\n",
    "    params:\n",
    "    df [dataframe]: input dataframe \n",
    "    n [integer]: input number of frequent words to be removed\n",
    "    \"\"\"\n",
    "    from collections import Counter\n",
    "    cnt = Counter()\n",
    "    for i in df:\n",
    "    \n",
    "        for text in df[i].values:\n",
    "            for word in text.split():\n",
    "                cnt[word] += 1\n",
    "           \n",
    "    #custom function to remove the frequent words             \n",
    "    FREQWORDS = set([w for (w, wc) in cnt.most_common(n)])\n",
    "    \n",
    "    print(\"Frequent words that are removed:\", set([(w, wc) for (w, wc) in cnt.most_common(n)]))\n",
    "    df = df.applymap(lambda text: \" \".join([word for word in str(text).split() if word not in FREQWORDS]))\n",
    "    \n",
    "    return df\n"
   ]
  },
  {
   "cell_type": "code",
   "execution_count": 44,
   "id": "8c760354",
   "metadata": {},
   "outputs": [
    {
     "name": "stdout",
     "output_type": "stream",
     "text": [
      "Frequent words that are removed: {('project', 1340), ('case', 1520), ('hi', 3353), ('jchun', 1558), ('cycle', 1858), ('client', 1428), ('please', 1959), ('issue', 1851), ('test', 7500), ('gio', 6544)}\n"
     ]
    }
   ],
   "source": [
    "df = remove_freqwords(df,10)"
   ]
  },
  {
   "cell_type": "code",
   "execution_count": 45,
   "id": "952af778",
   "metadata": {},
   "outputs": [
    {
     "data": {
      "text/plain": [
       "'facing trying clone result one another tried directly clone results failed left cases behind manually selected cases clone left two cases failed cloned whether automatically manually'"
      ]
     },
     "execution_count": 45,
     "metadata": {},
     "output_type": "execute_result"
    }
   ],
   "source": [
    "df.iloc[149,1]"
   ]
  },
  {
   "cell_type": "code",
   "execution_count": 46,
   "id": "2fbf14f4",
   "metadata": {},
   "outputs": [
    {
     "data": {
      "text/plain": [
       "'observation error importing excel tcm error error inserting data trtl f id exception occurred executing update official cases set master ref id auditt check parent main updated id params null sqlstate hy general error incorrect string value non column description row tcm manageability sota fota excel file attached'"
      ]
     },
     "execution_count": 46,
     "metadata": {},
     "output_type": "execute_result"
    }
   ],
   "source": [
    "df.iloc[10,1]"
   ]
  },
  {
   "cell_type": "markdown",
   "id": "c89ef266",
   "metadata": {},
   "source": [
    "### 6) Remove rare words"
   ]
  },
  {
   "cell_type": "code",
   "execution_count": 47,
   "id": "50d0e6fa",
   "metadata": {},
   "outputs": [],
   "source": [
    "def remove_rarewords(df,n):\n",
    "    \"\"\"\n",
    "    Remove n rare words\n",
    "    params:\n",
    "    df [dataframe]: input dataframe \n",
    "    n [integer]: input number of rare words to be removed\n",
    "    \"\"\"\n",
    "    from collections import Counter\n",
    "    cnt = Counter()\n",
    "    for i in df:\n",
    "    \n",
    "        for text in df[i].values:\n",
    "            for word in text.split():\n",
    "                cnt[word] += 1\n",
    "           \n",
    "    #custom function to remove the frequent words             \n",
    "    RAREWORDS = set([w for (w, wc) in cnt.most_common()[:-n-1:-1]])\n",
    "    \n",
    "    print(\"Rare words that are removed:\", set([(w,wc) for (w, wc) in cnt.most_common()[:-n-1:-1]]))\n",
    "    df = df.applymap(lambda text: \" \".join([word for word in str(text).split() if word not in RAREWORDS]))\n",
    "    \n",
    "    return df\n"
   ]
  },
  {
   "cell_type": "code",
   "execution_count": 48,
   "id": "6ff0508e",
   "metadata": {},
   "outputs": [
    {
     "name": "stdout",
     "output_type": "stream",
     "text": [
      "Rare words that are removed: {('hopefully', 2), ('piie', 2), ('misunderstand', 2), ('gosse', 2), ('cqn', 2), ('sqba', 2), ('katheine', 2), ('sq', 2), ('enhancment', 2), ('super', 2)}\n"
     ]
    }
   ],
   "source": [
    "df = remove_rarewords(df,10)"
   ]
  },
  {
   "cell_type": "code",
   "execution_count": 49,
   "id": "4b5fd470",
   "metadata": {},
   "outputs": [
    {
     "data": {
      "text/plain": [
       "'facing trying clone result one another tried directly clone results failed left cases behind manually selected cases clone left two cases failed cloned whether automatically manually'"
      ]
     },
     "execution_count": 49,
     "metadata": {},
     "output_type": "execute_result"
    }
   ],
   "source": [
    "df.iloc[149,1]"
   ]
  },
  {
   "cell_type": "code",
   "execution_count": 50,
   "id": "f1cba934",
   "metadata": {},
   "outputs": [
    {
     "data": {
      "text/plain": [
       "'observation error importing excel tcm error error inserting data trtl f id exception occurred executing update official cases set master ref id auditt check parent main updated id params null sqlstate hy general error incorrect string value non column description row tcm manageability sota fota excel file attached'"
      ]
     },
     "execution_count": 50,
     "metadata": {},
     "output_type": "execute_result"
    }
   ],
   "source": [
    "df.iloc[10,1]"
   ]
  },
  {
   "cell_type": "code",
   "execution_count": null,
   "id": "fff5b76f",
   "metadata": {},
   "outputs": [],
   "source": [
    "df.to_excel('C:/Users/nchong/OneDrive - Intel Corporation/Documents/Debug Similarity Analytics and Bucketization Framework/General/Sample json output/HSD ES Raw Data/20210920/'+'final_withspacylemma.xlsx')"
   ]
  },
  {
   "cell_type": "markdown",
   "id": "57f4224f",
   "metadata": {},
   "source": [
    "### c) Custom tokenization"
   ]
  },
  {
   "cell_type": "code",
   "execution_count": null,
   "id": "c45e0a68",
   "metadata": {},
   "outputs": [],
   "source": [
    "import nltk\n",
    "from nltk.tokenize import word_tokenize\n",
    "from nltk.tokenize import sent_tokenize\n",
    "from nltk.tokenize import WhitespaceTokenizer\n",
    "from nltk.tokenize import WordPunctTokenizer\n",
    "import re\n",
    "\n",
    "def cust_tokenization(df,token_met,token_type,delim =None):\n",
    "    \"\"\"\n",
    "    Custom tokenization, 2 options are available: split() or nltk \n",
    "    params:\n",
    "    df [dataframe]: input dataframe \n",
    "    token_met[\"string\"]: input tokenization method (\"split\" or \"nltk\")\n",
    "    \n",
    "    token_type[\"string\"](use only if token_met= \"nltk\"): type of nltk tokenization\n",
    "    a) token_type = \"WordToken\" tokenizes a string into a list of words\n",
    "    b) token_type = \"SentToken\" tokenizes a string containing sentences into a list of sentences\n",
    "    c) token_type = \"WhiteSpaceToken\" tokenizes a string on whitespace (space, tab, newline)\n",
    "    d) token_type = \"WordPunctTokenizer\" tokenizes a string on punctuations\n",
    "         \n",
    "    delim[\"string\"](use only if token_met = \"split\"): specify delimiter to separate strings,\n",
    "    default delimiter (delim=None) is whitespace,  an alternate option for token_type = \"WhiteSpaceToken\"\n",
    "    \n",
    "    \"\"\"\n",
    "    if token_met == \"split\":\n",
    "        if delim==None:\n",
    "            print(\"Text is split by space\") #default delimiter is space if not specified \n",
    "\n",
    "        else:\n",
    "            print(\"Text is split by:\", delim) #can accept one or more delimiter\n",
    "\n",
    "        df = df.applymap(lambda text: text.split() if delim==None else text.split(delim))\n",
    "\n",
    "    if token_met == \"nltk\":\n",
    "    \n",
    "        if token_type == \"WordToken\":\n",
    "            tokenizer = word_tokenize\n",
    "        if token_type == \"SentToken\":\n",
    "            tokenizer = sent_tokenize\n",
    "        if token_type == \"WhiteSpaceToken\":\n",
    "            tokenizer = WhitespaceTokenizer().tokenize\n",
    "        if token_type == \"WordPunctTokenizer\":\n",
    "            tokenizer = WordPunctTokenizer().tokenize\n",
    "\n",
    "        df = df.applymap(lambda text: tokenizer(text))\n",
    "        \n",
    "    return df"
   ]
  },
  {
   "cell_type": "code",
   "execution_count": null,
   "id": "da1019c3",
   "metadata": {},
   "outputs": [],
   "source": [
    "#use split\n",
    "df = cust_tokenization(df,token_met=\"split\",token_type=None,delim = '.')"
   ]
  },
  {
   "cell_type": "code",
   "execution_count": null,
   "id": "e1827f5d",
   "metadata": {},
   "outputs": [],
   "source": [
    "#use nltk\n",
    "df = cust_tokenization(df,token_met=\"nltk\",token_type=\"WordToken\",delim = None)"
   ]
  },
  {
   "cell_type": "code",
   "execution_count": null,
   "id": "1c8359f8",
   "metadata": {},
   "outputs": [],
   "source": []
  },
  {
   "cell_type": "code",
   "execution_count": null,
   "id": "d755b5cf",
   "metadata": {},
   "outputs": [],
   "source": [
    "#remove html tag\n",
    "# from bs4 import BeautifulSoup\n",
    "# df[\"title\"] = [BeautifulSoup(text).get_text() for text in df[\"title\"]]\n",
    "# df[\"description\"] = [BeautifulSoup(text).get_text() for text in df[\"description\"]]\n",
    "# df[\"comments\"] = [BeautifulSoup(text).get_text() for text in df[\"comments\"]]\n",
    "# df"
   ]
  },
  {
   "cell_type": "code",
   "execution_count": null,
   "id": "76866305",
   "metadata": {},
   "outputs": [],
   "source": [
    "# Define the function to remove the punctuation\n",
    "#### Remove punctuation including underscore\n",
    "# \\w =  word character i.e. characters which are from a to z, A to Z, 0 to 9, _\n",
    "# \\s = matches whitespace (spaces, tabs and new lines)\n",
    "# import string \n",
    "# def remove_punctuation(df):\n",
    "#     df = df.replace('[^\\w\\s_]', ' ',regex=True)\n",
    "#     return df"
   ]
  },
  {
   "cell_type": "code",
   "execution_count": null,
   "id": "f21c7ee7",
   "metadata": {},
   "outputs": [],
   "source": [
    "# from bs4 import BeautifulSoup\n",
    "# def remove_htmltag(html):\n",
    "  \n",
    "#     # parse html content\n",
    "#     soup = BeautifulSoup(html, \"html.parser\")\n",
    "  \n",
    "#     for data in soup(['style', 'script']):\n",
    "#         # Remove tags\n",
    "#         data.decompose()\n",
    "  \n",
    "#     # return data by retrieving the tag content\n",
    "#     return ' '.join(soup.stripped_strings)\n",
    "\n",
    "# df = df.applymap(remove_htmltag)\n",
    "# df"
   ]
  },
  {
   "cell_type": "code",
   "execution_count": null,
   "id": "ac5ee37f",
   "metadata": {},
   "outputs": [],
   "source": [
    "# import string\n",
    "# from pandas import DataFrame\n",
    "# def remove_punctuations(text):\n",
    "#     for punctuation in string.punctuation:\n",
    "#         text = text.replace(punctuation, ' ')\n",
    "#     return text\n",
    "\n",
    "# # df = df.applymap lambda text:[text.replace(punctuation, ' ') for punctuation in string.punctuation])\n",
    "# #  df = df.applymap(lambda s:s.lower() if type(s) == str else s)\n",
    "# df = df.applymap(remove_punctuations)\n",
    "# df"
   ]
  }
 ],
 "metadata": {
  "kernelspec": {
   "display_name": "Python 3",
   "language": "python",
   "name": "python3"
  },
  "language_info": {
   "codemirror_mode": {
    "name": "ipython",
    "version": 3
   },
   "file_extension": ".py",
   "mimetype": "text/x-python",
   "name": "python",
   "nbconvert_exporter": "python",
   "pygments_lexer": "ipython3",
   "version": "3.8.8"
  }
 },
 "nbformat": 4,
 "nbformat_minor": 5
}
